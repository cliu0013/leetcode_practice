{
 "cells": [
  {
   "cell_type": "markdown",
   "metadata": {},
   "source": [
    "# BFS & DFS"
   ]
  },
  {
   "cell_type": "code",
   "execution_count": 17,
   "metadata": {},
   "outputs": [
    {
     "name": "stdout",
     "output_type": "stream",
     "text": [
      "Following is Breadth First Traversal (starting from vertex 2)\n",
      "BFS [2, 0, 3, 1]\n",
      "DFS [2, 0, 1, 3]\n",
      "DFS_iterative [2, 3, 0, 1]\n"
     ]
    }
   ],
   "source": [
    "from collections import defaultdict\n",
    " \n",
    "class Graph:\n",
    " \n",
    "    # Constructor\n",
    "    def __init__(self):\n",
    " \n",
    "        # default dictionary to store graph\n",
    "        self.graph = defaultdict(list)\n",
    " \n",
    "    # function to add an edge to graph\n",
    "    def addEdge(self,u,v):\n",
    "        self.graph[u].append(v)\n",
    " \n",
    "    # Function to print a BFS of graph\n",
    "    def BFS(self, s):\n",
    "        # O(V+E), O(V)\n",
    "        # the first node you handle is the first child\n",
    "        \n",
    "        path = []\n",
    "        visited = [False for i in range(max(self.graph) + 1)]\n",
    "        queue = []\n",
    "        queue.append(s)\n",
    "        visited[s] = True\n",
    "        while queue:\n",
    "            node = queue.pop(0)\n",
    "            path.append(node)\n",
    "            for child in self.graph[node]:\n",
    "                if visited[child] == False:\n",
    "                    queue.append(child)\n",
    "                    visited[child] = True\n",
    "        print(\"BFS\", path)\n",
    "        \n",
    "    def DFS(self, s):\n",
    "        # O(V+E), O(V)\n",
    "        \n",
    "        path = []\n",
    "        visited = [False for i in range(max(self.graph) + 1)]\n",
    "        \n",
    "        def step(v):\n",
    "            visited[v] = True\n",
    "            path.append(v)\n",
    "            for child in self.graph[v]:\n",
    "                if visited[child] == False:\n",
    "                    step(child)\n",
    "        step(s)\n",
    "        \n",
    "        print(\"DFS\", path)\n",
    "        \n",
    "    def DFS_iterative(self, s):\n",
    "        # O(V+E), O(V)\n",
    "        # the first node you handle is the last child\n",
    "        \n",
    "        path = []\n",
    "        visited = [False for i in range(max(self.graph) + 1)]\n",
    "        stack = []\n",
    "        stack.append(s)\n",
    "        visited[s] = True\n",
    "        while stack:\n",
    "            v = stack.pop(-1)\n",
    "            path.append(v)\n",
    "            visited[v] = True\n",
    "            \n",
    "            for u in self.graph[v]:\n",
    "#             for u in self.graph[v][::-1]\n",
    "                if visited[u] == False:\n",
    "                    stack.append(u)\n",
    "                    \n",
    "        print(\"DFS_iterative\", path)\n",
    "    \n",
    " \n",
    " \n",
    "# Create a graph given in\n",
    "# the above diagram\n",
    "g = Graph()\n",
    "g.addEdge(0, 1)\n",
    "g.addEdge(0, 2)\n",
    "g.addEdge(1, 2)\n",
    "g.addEdge(2, 0)\n",
    "g.addEdge(2, 3)\n",
    "g.addEdge(3, 3)\n",
    " \n",
    "print (\"Following is Breadth First Traversal\"\n",
    "                  \" (starting from vertex 2)\")\n",
    "g.BFS(2)\n",
    "g.DFS(2)\n",
    "g.DFS_iterative(2)"
   ]
  },
  {
   "cell_type": "markdown",
   "metadata": {},
   "source": [
    "# Binary Search"
   ]
  },
  {
   "cell_type": "code",
   "execution_count": 28,
   "metadata": {},
   "outputs": [
    {
     "name": "stdout",
     "output_type": "stream",
     "text": [
      "binary search recursive 3 at 1\n",
      "binary search recursive 40 at 4\n",
      "binary search iterative 3 at 1\n",
      "binary search iterative 40 at 4\n"
     ]
    }
   ],
   "source": [
    "def binarySearchRecurse(arr, l, r, tar):\n",
    "    if r - l >= 1:\n",
    "        mid = l + (r - l)//2\n",
    "        if arr[mid] == tar:\n",
    "            return mid\n",
    "        else:\n",
    "            if arr[mid] < tar:\n",
    "                return binarySearchRecurse(arr, mid + 1, r, tar)\n",
    "            else:\n",
    "                return binarySearchRecurse(arr, l, mid, tar)                \n",
    "    else:\n",
    "        return -1\n",
    "\n",
    "def binarySearchIterative(arr, l, r, tar):\n",
    "    while l < r:\n",
    "        mid = l + (r - l)//2\n",
    "        if arr[mid] == tar:\n",
    "            return mid\n",
    "        elif arr[mid] < tar:\n",
    "            l = mid + 1\n",
    "        else:\n",
    "            r = mid\n",
    "    return -1\n",
    "    \n",
    "arr = [2, 3, 4, 10, 40]\n",
    "ret = binarySearchRecurse(arr, 0, len(arr), 3)\n",
    "print(\"binary search recursive\", 3, \"at\", ret)\n",
    "\n",
    "ret = binarySearchRecurse(arr, 0, len(arr), 40)\n",
    "print(\"binary search recursive\", 40, \"at\", ret)\n",
    "\n",
    "ret = binarySearchIterative(arr, 0, len(arr), 3)\n",
    "print(\"binary search iterative\", 3, \"at\", ret)\n",
    "\n",
    "ret = binarySearchIterative(arr, 0, len(arr), 40)\n",
    "print(\"binary search iterative\", 40, \"at\", ret)\n"
   ]
  },
  {
   "cell_type": "code",
   "execution_count": 32,
   "metadata": {},
   "outputs": [
    {
     "name": "stdout",
     "output_type": "stream",
     "text": [
      "1\n"
     ]
    }
   ],
   "source": [
    "def duplicate(arr):\n",
    "    l, r = 0, len(arr)\n",
    "    ret = -1\n",
    "    while l < r:\n",
    "        mid = l + (r - l) // 2\n",
    "        if arr[mid] == mid:\n",
    "            ret = mid\n",
    "            r = mid\n",
    "        else:\n",
    "            l = mid + 1\n",
    "            \n",
    "    return ret\n",
    "\n",
    "arr = [1, 1, 2, 3, 4, 5, 6, 7]\n",
    "print(duplicate(arr))"
   ]
  },
  {
   "cell_type": "code",
   "execution_count": 53,
   "metadata": {},
   "outputs": [
    {
     "name": "stdout",
     "output_type": "stream",
     "text": [
      "[0, 0, 0, 0, 0, 0, 0, 1, 1, 1, 1, 2, 2, 2, 2, 2]\n"
     ]
    }
   ],
   "source": [
    "def sortSpecial(arr):\n",
    "    l, r = 0, len(arr) - 1 \n",
    "    for i, ele in enumerate(arr):\n",
    "        if ele == 0:\n",
    "            arr[l], arr[i] = arr[i], arr[l]\n",
    "            l += 1\n",
    "    for i, ele in enumerate(arr[::-1]):\n",
    "        if ele == 2:\n",
    "            arr[r], arr[-i -1] = arr[-i - 1], arr[r]\n",
    "            r -= 1\n",
    "    return arr\n",
    "        \n",
    "a = [0,2,1,2,2,1,0,0,0,0,0,1, 2, 2, 1 ,0]\n",
    "print(sortSpecial(a))"
   ]
  },
  {
   "cell_type": "code",
   "execution_count": null,
   "metadata": {},
   "outputs": [],
   "source": []
  },
  {
   "cell_type": "code",
   "execution_count": null,
   "metadata": {},
   "outputs": [],
   "source": []
  }
 ],
 "metadata": {
  "kernelspec": {
   "display_name": "Python 3",
   "language": "python",
   "name": "python3"
  },
  "language_info": {
   "codemirror_mode": {
    "name": "ipython",
    "version": 3
   },
   "file_extension": ".py",
   "mimetype": "text/x-python",
   "name": "python",
   "nbconvert_exporter": "python",
   "pygments_lexer": "ipython3",
   "version": "3.6.5"
  }
 },
 "nbformat": 4,
 "nbformat_minor": 2
}
